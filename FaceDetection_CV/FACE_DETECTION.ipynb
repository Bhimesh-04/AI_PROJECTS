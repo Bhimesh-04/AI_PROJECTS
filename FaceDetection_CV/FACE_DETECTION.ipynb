{
 "cells": [
  {
   "cell_type": "code",
   "execution_count": 1,
   "id": "fa379624-a842-4e2b-a1b9-17d58eb0ec92",
   "metadata": {},
   "outputs": [
    {
     "name": "stdout",
     "output_type": "stream",
     "text": [
      "Requirement already satisfied: opencv-python in c:\\users\\bhimesh\\anaconda3\\lib\\site-packages (4.11.0.86)\n",
      "Requirement already satisfied: numpy>=1.21.2 in c:\\users\\bhimesh\\anaconda3\\lib\\site-packages (from opencv-python) (1.26.4)\n"
     ]
    }
   ],
   "source": [
    "!pip install opencv-python"
   ]
  },
  {
   "cell_type": "code",
   "execution_count": 2,
   "id": "67ddd463-539f-48c7-b555-a5ab44ebf2e1",
   "metadata": {},
   "outputs": [],
   "source": [
    "import cv2  \n",
    "\n",
    "# Load the Haar cascade for face detection  \n",
    "faceCascade = cv2.CascadeClassifier(cv2.data.haarcascades + 'haarcascade_frontalface_default.xml')  \n",
    "\n",
    "# Open webcam  \n",
    "cap = cv2.VideoCapture(0)  \n",
    "\n",
    "while True:  \n",
    "    ret, frame = cap.read()  # Capture frame  \n",
    "    if not ret:\n",
    "        print(\"Failed to grab frame\")\n",
    "        break\n",
    "\n",
    "    # Convert to grayscale  \n",
    "    gray = cv2.cvtColor(frame, cv2.COLOR_BGR2GRAY)  \n",
    "\n",
    "    # Detect faces  \n",
    "    faces = faceCascade.detectMultiScale(gray, scaleFactor=1.1, minNeighbors=5, minSize=(30, 30))  \n",
    "\n",
    "    # Draw rectangles around detected faces  \n",
    "    for (x, y, w, h) in faces:  \n",
    "        cv2.rectangle(frame, (x, y), (x + w, y + h), (0, 255, 0), 2)  \n",
    "\n",
    "    # Show the output  \n",
    "    cv2.imshow(\"Face Detection\", frame)  \n",
    "\n",
    "    # Exit when 'q' key is pressed  \n",
    "    if cv2.waitKey(1) & 0xFF == ord('q'):  \n",
    "        break  \n",
    "\n",
    "# Release resources  \n",
    "cap.release()  \n",
    "cv2.destroyAllWindows()\n"
   ]
  },
  {
   "cell_type": "code",
   "execution_count": 3,
   "id": "a135e48a-c540-4cf3-989d-0fbf49c01a7a",
   "metadata": {},
   "outputs": [
    {
     "name": "stdout",
     "output_type": "stream",
     "text": [
      "Nose and Mouth Haar cascades downloaded successfully!\n"
     ]
    }
   ],
   "source": [
    "import urllib.request\n",
    "\n",
    "# URLs for Nose and Mouth Cascade files\n",
    "nose_url = \"https://github.com/opencv/opencv_contrib/raw/3.4.0/modules/face/data/cascades/haarcascade_mcs_nose.xml\"\n",
    "mouth_url = \"https://github.com/opencv/opencv_contrib/raw/3.4.0/modules/face/data/cascades/haarcascade_mcs_mouth.xml\"\n",
    "\n",
    "# Download the files\n",
    "urllib.request.urlretrieve(nose_url, \"haarcascade_mcs_nose.xml\")\n",
    "urllib.request.urlretrieve(mouth_url, \"haarcascade_mcs_mouth.xml\")\n",
    "\n",
    "print(\"Nose and Mouth Haar cascades downloaded successfully!\")\n"
   ]
  },
  {
   "cell_type": "code",
   "execution_count": 8,
   "id": "6aced3da-5c09-4eca-a8ba-c8f306554517",
   "metadata": {},
   "outputs": [],
   "source": [
    "import cv2  \n",
    "\n",
    "# Load Haar cascades\n",
    "face_cascade = cv2.CascadeClassifier(cv2.data.haarcascades + 'haarcascade_frontalface_default.xml')\n",
    "eye_cascade = cv2.CascadeClassifier(cv2.data.haarcascades + 'haarcascade_eye.xml')\n",
    "nose_cascade = cv2.CascadeClassifier('haarcascade_mcs_nose.xml')  # Download manually\n",
    "mouth_cascade = cv2.CascadeClassifier('haarcascade_mcs_mouth.xml')  # Download manually\n",
    "\n",
    "# Open webcam\n",
    "cap = cv2.VideoCapture(0)\n",
    "\n",
    "while True:\n",
    "    ret, frame = cap.read()\n",
    "    if not ret:\n",
    "        print(\"Failed to grab frame\")\n",
    "        break\n",
    "\n",
    "    # Convert to grayscale\n",
    "    gray = cv2.cvtColor(frame, cv2.COLOR_BGR2GRAY)\n",
    "\n",
    "    # Detect faces\n",
    "    faces = face_cascade.detectMultiScale(gray, scaleFactor=1.1, minNeighbors=5, minSize=(30, 30))\n",
    "\n",
    "    for (x, y, w, h) in faces:\n",
    "        # Draw rectangle around face\n",
    "        cv2.rectangle(frame, (x, y), (x + w, y + h), (0, 255, 0), 2)\n",
    "\n",
    "        # Define ROI (Region of Interest) for better detection\n",
    "        roi_gray = gray[y:y+h, x:x+w]\n",
    "        roi_color = frame[y:y+h, x:x+w]\n",
    "\n",
    "        # Detect eyes\n",
    "        eyes = eye_cascade.detectMultiScale(roi_gray, scaleFactor=1.1, minNeighbors=5, minSize=(15, 15))\n",
    "        for (ex, ey, ew, eh) in eyes:\n",
    "            cv2.rectangle(roi_color, (ex, ey), (ex + ew, ey + eh), (255, 0, 0), 2)\n",
    "\n",
    "        # Detect nose\n",
    "        nose = nose_cascade.detectMultiScale(roi_gray, scaleFactor=1.1, minNeighbors=5, minSize=(30, 30))\n",
    "        for (nx, ny, nw, nh) in nose:\n",
    "            cv2.rectangle(roi_color, (nx, ny), (nx + nw, ny + nh), (0, 255, 255), 2)\n",
    "\n",
    "        # Detect mouth\n",
    "        mouth = mouth_cascade.detectMultiScale(roi_gray, scaleFactor=1.1, minNeighbors=5, minSize=(40, 20))\n",
    "        for (mx, my, mw, mh) in mouth:\n",
    "            cv2.rectangle(roi_color, (mx, my), (mx + mw, my + mh), (0, 0, 255), 2)\n",
    "\n",
    "    # Show output\n",
    "    cv2.imshow(\"Face, Eyes, Nose, Mouth Detection\", frame)\n",
    "\n",
    "    # Exit when 'q' is pressed\n",
    "    if cv2.waitKey(1) & 0xFF == ord('q'):\n",
    "        break\n",
    "\n",
    "# Release webcam and close window\n",
    "cap.release()\n",
    "cv2.destroyAllWindows()\n"
   ]
  },
  {
   "cell_type": "code",
   "execution_count": null,
   "id": "2e543370-8df8-4640-925d-0a5405afa3be",
   "metadata": {},
   "outputs": [],
   "source": []
  }
 ],
 "metadata": {
  "kernelspec": {
   "display_name": "Python [conda env:base] *",
   "language": "python",
   "name": "conda-base-py"
  },
  "language_info": {
   "codemirror_mode": {
    "name": "ipython",
    "version": 3
   },
   "file_extension": ".py",
   "mimetype": "text/x-python",
   "name": "python",
   "nbconvert_exporter": "python",
   "pygments_lexer": "ipython3",
   "version": "3.12.7"
  }
 },
 "nbformat": 4,
 "nbformat_minor": 5
}
